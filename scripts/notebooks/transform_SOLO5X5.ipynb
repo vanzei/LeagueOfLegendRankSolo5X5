{
 "cells": [
  {
   "cell_type": "code",
   "execution_count": 18,
   "metadata": {},
   "outputs": [],
   "source": [
    "import pandas as pd\n",
    "import json\n",
    "import glob\n",
    "import datetime\n",
    "\n",
    "dt_now = datetime.datetime.now().strftime(\"%Y-%m-%d %H:%M:%S\")"
   ]
  },
  {
   "cell_type": "code",
   "execution_count": null,
   "metadata": {},
   "outputs": [],
   "source": []
  },
  {
   "cell_type": "code",
   "execution_count": 19,
   "metadata": {},
   "outputs": [],
   "source": [
    "json_files = glob.glob('../data/*.json')"
   ]
  },
  {
   "cell_type": "code",
   "execution_count": 20,
   "metadata": {},
   "outputs": [],
   "source": [
    "try:\n",
    "    agg = pd.read_csv(\"../processed/processed.csv\")\n",
    "except:\n",
    "    agg = pd.DataFrame(columns = ['tier', 'leagueId', 'queue', 'name', 'date', 'summonerId',\n",
    "       'summonerName', 'leaguePoints', 'rank', 'wins', 'losses', 'veteran',\n",
    "       'inactive', 'freshBlood', 'hotStreak'])"
   ]
  },
  {
   "cell_type": "code",
   "execution_count": 21,
   "metadata": {},
   "outputs": [],
   "source": [
    "dates = agg['date'].astype(str).unique()"
   ]
  },
  {
   "cell_type": "code",
   "execution_count": 22,
   "metadata": {},
   "outputs": [],
   "source": [
    "for file in json_files:\n",
    "    file_date = file[8:18]\n",
    "    if file_date in dates:\n",
    "        continue\n",
    "    else:\n",
    "        df = pd.read_json(f'../data/{file_date}-response.json')\n",
    "        df['date'] = pd.Timestamp(file_date)\n",
    "        df = df.join(pd.json_normalize(df.entries)).drop(columns='entries')\n",
    "        agg = pd.concat([agg, df])\n"
   ]
  },
  {
   "cell_type": "code",
   "execution_count": 23,
   "metadata": {},
   "outputs": [],
   "source": [
    "agg.to_csv(\"../processed/processed.csv\", index=False)"
   ]
  },
  {
   "cell_type": "code",
   "execution_count": 24,
   "metadata": {},
   "outputs": [],
   "source": [
    "metadata = open(f\"../processed/metadata-{dt_now}\", \"w\")\n",
    "metadata.close()"
   ]
  }
 ],
 "metadata": {
  "kernelspec": {
   "display_name": "base",
   "language": "python",
   "name": "python3"
  },
  "language_info": {
   "codemirror_mode": {
    "name": "ipython",
    "version": 3
   },
   "file_extension": ".py",
   "mimetype": "text/x-python",
   "name": "python",
   "nbconvert_exporter": "python",
   "pygments_lexer": "ipython3",
   "version": "3.9.13"
  }
 },
 "nbformat": 4,
 "nbformat_minor": 2
}
